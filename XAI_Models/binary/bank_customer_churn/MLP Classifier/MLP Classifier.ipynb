{
    "cells": [
        {
            "cell_type": "markdown",
            "metadata": {},
            "source": [
                "# MLP Classifier Notebook\n"
            ]
        },
        {
            "cell_type": "code",
            "execution_count": 1,
            "id": "14433bec",
            "metadata": {},
            "outputs": [],
            "source": [
                "import pandas as pd\n",
                "import seaborn as sns\n",
                "import matplotlib.pyplot as plt\n",
                "import json\n",
                "import optuna\n",
                "from sklearn.model_selection import train_test_split, cross_val_score\n",
                "from sklearn.pipeline import Pipeline\n",
                "from sklearn.compose import ColumnTransformer\n",
                "from sklearn.preprocessing import OneHotEncoder, StandardScaler\n",
                "from sklearn.neural_network import MLPClassifier\n",
                "from sklearn.metrics import accuracy_score, classification_report\n",
                "import os"
            ]
        },
        {
            "cell_type": "code",
            "execution_count": 2,
            "id": "389203b2",
            "metadata": {},
            "outputs": [
                {
                    "name": "stdout",
                    "output_type": "stream",
                    "text": [
                        "<class 'pandas.core.frame.DataFrame'>\n",
                        "RangeIndex: 10000 entries, 0 to 9999\n",
                        "Data columns (total 12 columns):\n",
                        " #   Column            Non-Null Count  Dtype  \n",
                        "---  ------            --------------  -----  \n",
                        " 0   customer_id       10000 non-null  int64  \n",
                        " 1   credit_score      10000 non-null  int64  \n",
                        " 2   country           10000 non-null  object \n",
                        " 3   gender            10000 non-null  object \n",
                        " 4   age               10000 non-null  int64  \n",
                        " 5   tenure            10000 non-null  int64  \n",
                        " 6   balance           10000 non-null  float64\n",
                        " 7   products_number   10000 non-null  int64  \n",
                        " 8   credit_card       10000 non-null  int64  \n",
                        " 9   active_member     10000 non-null  int64  \n",
                        " 10  estimated_salary  10000 non-null  float64\n",
                        " 11  churn             10000 non-null  int64  \n",
                        "dtypes: float64(2), int64(8), object(2)\n",
                        "memory usage: 937.6+ KB\n",
                        "None\n",
                        "        customer_id  credit_score           age        tenure        balance  \\\n",
                        "count  1.000000e+04  10000.000000  10000.000000  10000.000000   10000.000000   \n",
                        "mean   1.569094e+07    650.528800     38.921800      5.012800   76485.889288   \n",
                        "std    7.193619e+04     96.653299     10.487806      2.892174   62397.405202   \n",
                        "min    1.556570e+07    350.000000     18.000000      0.000000       0.000000   \n",
                        "25%    1.562853e+07    584.000000     32.000000      3.000000       0.000000   \n",
                        "50%    1.569074e+07    652.000000     37.000000      5.000000   97198.540000   \n",
                        "75%    1.575323e+07    718.000000     44.000000      7.000000  127644.240000   \n",
                        "max    1.581569e+07    850.000000     92.000000     10.000000  250898.090000   \n",
                        "\n",
                        "       products_number  credit_card  active_member  estimated_salary  \\\n",
                        "count     10000.000000  10000.00000   10000.000000      10000.000000   \n",
                        "mean          1.530200      0.70550       0.515100     100090.239881   \n",
                        "std           0.581654      0.45584       0.499797      57510.492818   \n",
                        "min           1.000000      0.00000       0.000000         11.580000   \n",
                        "25%           1.000000      0.00000       0.000000      51002.110000   \n",
                        "50%           1.000000      1.00000       1.000000     100193.915000   \n",
                        "75%           2.000000      1.00000       1.000000     149388.247500   \n",
                        "max           4.000000      1.00000       1.000000     199992.480000   \n",
                        "\n",
                        "              churn  \n",
                        "count  10000.000000  \n",
                        "mean       0.203700  \n",
                        "std        0.402769  \n",
                        "min        0.000000  \n",
                        "25%        0.000000  \n",
                        "50%        0.000000  \n",
                        "75%        0.000000  \n",
                        "max        1.000000  \n",
                        "   customer_id  credit_score country  gender  age  tenure    balance  \\\n",
                        "0     15634602           619  France  Female   42       2       0.00   \n",
                        "1     15647311           608   Spain  Female   41       1   83807.86   \n",
                        "2     15619304           502  France  Female   42       8  159660.80   \n",
                        "3     15701354           699  France  Female   39       1       0.00   \n",
                        "4     15737888           850   Spain  Female   43       2  125510.82   \n",
                        "\n",
                        "   products_number  credit_card  active_member  estimated_salary  churn  \n",
                        "0                1            1              1         101348.88      1  \n",
                        "1                1            0              1         112542.58      0  \n",
                        "2                3            1              0         113931.57      1  \n",
                        "3                2            0              0          93826.63      0  \n",
                        "4                1            1              1          79084.10      0  \n"
                    ]
                }
            ],
            "source": [
                "# Load dataset\n",
                "bank_df = pd.read_csv(r'C:\\Users\\aryan\\Desktop\\XAI\\XAI_Models\\binary\\bank_customer_churn\\Bank Customer Churn Prediction.csv')\n",
                "\n",
                "# Display basic info\n",
                "print(bank_df.info())\n",
                "print(bank_df.describe())\n",
                "print(bank_df.head())"
            ]
        },
        {
            "cell_type": "code",
            "execution_count": null,
            "id": "e92de49e",
            "metadata": {},
            "outputs": [],
            "source": []
        }
    ],
    "metadata": {
        "kernelspec": {
            "display_name": "Python 3",
            "language": "python",
            "name": "python3"
        },
        "language_info": {
            "codemirror_mode": {
                "name": "ipython",
                "version": 3
            },
            "file_extension": ".py",
            "mimetype": "text/x-python",
            "name": "python",
            "nbconvert_exporter": "python",
            "pygments_lexer": "ipython3",
            "version": "3.11.4"
        }
    },
    "nbformat": 4,
    "nbformat_minor": 5
}

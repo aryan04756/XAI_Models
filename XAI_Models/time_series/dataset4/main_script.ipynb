{
 "cells": [
  {
   "cell_type": "code",
   "execution_count": 1,
   "metadata": {},
   "outputs": [],
   "source": [
    "import os\n",
    "import json\n",
    "\n",
    "models = [\"RNN\", \"Decision Tree\", \"Random Forest\", \"MLP Classifier\"]\n",
    "\n",
    "for model in models:\n",
    "    os.makedirs(model, exist_ok=True)\n",
    "    \n",
    "    # Create .ipynb file with valid JSON structure\n",
    "    notebook_content = {\n",
    "        \"cells\": [\n",
    "            {\n",
    "                \"cell_type\": \"markdown\",\n",
    "                \"metadata\": {},\n",
    "                \"source\": [f\"# {model} Notebook\\n\"]\n",
    "            }\n",
    "        ],\n",
    "        \"metadata\": {},\n",
    "        \"nbformat\": 4,\n",
    "        \"nbformat_minor\": 5\n",
    "    }\n",
    "    with open(os.path.join(model, f\"{model}.ipynb\"), 'w') as f:\n",
    "        json.dump(notebook_content, f, indent=4)\n",
    "    \n",
    "    # Create .json file\n",
    "    with open(os.path.join(model, f\"{model}.json\"), 'w') as f:\n",
    "        f.write(f'{{\"model\": \"{model}\"}}')"
   ]
  },
  {
   "cell_type": "code",
   "execution_count": null,
   "metadata": {},
   "outputs": [],
   "source": []
  }
 ],
 "metadata": {
  "kernelspec": {
   "display_name": "Python 3",
   "language": "python",
   "name": "python3"
  },
  "language_info": {
   "codemirror_mode": {
    "name": "ipython",
    "version": 3
   },
   "file_extension": ".py",
   "mimetype": "text/x-python",
   "name": "python",
   "nbconvert_exporter": "python",
   "pygments_lexer": "ipython3",
   "version": "3.11.4"
  }
 },
 "nbformat": 4,
 "nbformat_minor": 2
}

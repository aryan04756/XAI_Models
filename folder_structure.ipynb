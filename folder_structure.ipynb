{
 "cells": [
  {
   "cell_type": "code",
   "execution_count": null,
   "metadata": {},
   "outputs": [
    {
     "name": "stdout",
     "output_type": "stream",
     "text": [
      "Dataset downloaded and saved as 'XAI_Models\\binary\\adult_income\\adult_income.csv'\n",
      "Folder structure created successfully under 'XAI_Models'!\n"
     ]
    }
   ],
   "source": [
    "import os\n",
    "from pathlib import Path\n",
    "import pandas as pd\n",
    "\n",
    "# Base folder name\n",
    "base_folder = \"XAI_Models\"\n",
    "\n",
    "# Define categories and datasets for each category\n",
    "data_categories = {\n",
    "    \"binary\": [\"adult_income\", \"bank_customer_churn\"],\n",
    "    \"time_series\": [\"dataset3\", \"dataset4\"],\n",
    "    \"multiclass\": [\"dataset5\", \"dataset6\"]\n",
    "}\n",
    "\n",
    "# Create the folder structure\n",
    "def create_folder_structure():\n",
    "    for category, datasets in data_categories.items():\n",
    "        category_path = Path(base_folder) / category\n",
    "        category_path.mkdir(parents=True, exist_ok=True)\n",
    "        for dataset in datasets:\n",
    "            dataset_path = category_path / dataset\n",
    "            dataset_path.mkdir(exist_ok=True)\n",
    "\n",
    "# Download and save dataset to dataset1\n",
    "def download_and_save_dataset():\n",
    "    url = \"https://archive.ics.uci.edu/ml/machine-learning-databases/adult/adult.data\"\n",
    "    dataset_name = \"adult_income\"\n",
    "    dataset_path = Path(base_folder) / \"binary\" / \"adult_income\"\n",
    "    dataset_path.mkdir(parents=True, exist_ok=True)\n",
    "\n",
    "    # Load dataset\n",
    "    columns = [\n",
    "        \"age\", \"workclass\", \"fnlwgt\", \"education\", \"education-num\", \"marital-status\",\n",
    "        \"occupation\", \"relationship\", \"race\", \"sex\", \"capital-gain\", \"capital-loss\",\n",
    "        \"hours-per-week\", \"native-country\", \"income\"\n",
    "    ]\n",
    "    df = pd.read_csv(url, header=None, names=columns, skipinitialspace=True)\n",
    "\n",
    "    # Save as CSV\n",
    "    csv_file = dataset_path / f\"{dataset_name}.csv\"\n",
    "    df.to_csv(csv_file, index=False)\n",
    "    print(f\"Dataset downloaded and saved as '{csv_file}'\")\n",
    "\n",
    "# Call the functions\n",
    "if __name__ == \"__main__\":\n",
    "    create_folder_structure()\n",
    "    download_and_save_dataset()\n",
    "    print(f\"Folder structure created successfully under '{base_folder}'!\")\n"
   ]
  },
  {
   "cell_type": "code",
   "execution_count": null,
   "metadata": {},
   "outputs": [],
   "source": []
  }
 ],
 "metadata": {
  "kernelspec": {
   "display_name": "Python 3",
   "language": "python",
   "name": "python3"
  },
  "language_info": {
   "codemirror_mode": {
    "name": "ipython",
    "version": 3
   },
   "file_extension": ".py",
   "mimetype": "text/x-python",
   "name": "python",
   "nbconvert_exporter": "python",
   "pygments_lexer": "ipython3",
   "version": "3.11.4"
  }
 },
 "nbformat": 4,
 "nbformat_minor": 2
}
